{
 "cells": [
  {
   "cell_type": "code",
   "execution_count": 111,
   "metadata": {},
   "outputs": [],
   "source": [
    "import json\n",
    "import numpy as np\n",
    "import matplotlib.pyplot as plt\n",
    "from sklearn import datasets, linear_model, metrics\n",
    "from sklearn.model_selection import train_test_split\n",
    "from sklearn.ensemble import StackingRegressor\n",
    "from sklearn.datasets import load_boston\n",
    "from sklearn import preprocessing\n",
    "from sklearn.linear_model import LinearRegression, Ridge\n",
    "from sklearn.metrics import r2_score, mean_squared_error\n",
    "from sklearn.preprocessing import StandardScaler\n",
    "from sklearn.ensemble import GradientBoostingRegressor\n",
    "from sklearn.ensemble import RandomForestRegressor\n",
    "from sklearn.ensemble import AdaBoostRegressor\n",
    "from sklearn.tree import DecisionTreeRegressor\n"
   ]
  },
  {
   "cell_type": "code",
   "execution_count": 112,
   "metadata": {},
   "outputs": [],
   "source": [
    "f = open('./dataset/vectorized_spacy.json','r')\n",
    "data = json.load(f)\n",
    "X=[]\n",
    "Y=[]\n",
    "T=[]\n",
    "ID=[]\n",
    "for x in data:\n",
    "    ID.append(x)\n",
    "    T.append(data[x][0])\n",
    "    Y.append(data[x][1])\n",
    "    X.append(data[x][2])\n",
    "\n",
    "scaler = StandardScaler()\n",
    "X = scaler.fit_transform(X)\n"
   ]
  },
  {
   "cell_type": "code",
   "execution_count": 113,
   "metadata": {},
   "outputs": [],
   "source": [
    "# put ratio here\n",
    "test_size = 0.2\n",
    "X_train, X_test, Y_train, Y_test = train_test_split(X, Y, test_size=test_size, random_state=0)"
   ]
  },
  {
   "cell_type": "code",
   "execution_count": 119,
   "metadata": {},
   "outputs": [],
   "source": [
    "DTR = DecisionTreeRegressor(max_depth=1)\n",
    "abr = AdaBoostRegressor(n_estimators=30, base_estimator=DTR ,learning_rate=1)\n",
    "lr = linear_model.LinearRegression()\n",
    "gbr_params = {'n_estimators': 1000,'max_depth': 5,'min_samples_split': 5,'learning_rate': 0.01}\n",
    "gbr = GradientBoostingRegressor(**gbr_params)\n",
    "rfr = RandomForestRegressor(n_estimators=20, random_state= 0)\n",
    "rr = Ridge(alpha=0.1,normalize=True)\n"
   ]
  },
  {
   "cell_type": "code",
   "execution_count": 120,
   "metadata": {},
   "outputs": [
    {
     "data": {
      "text/plain": [
       "0.15988143253662657"
      ]
     },
     "execution_count": 120,
     "metadata": {},
     "output_type": "execute_result"
    }
   ],
   "source": [
    "estimators = [\n",
    "    ('gbr', gbr),\n",
    "    ('rr', rr),\n",
    "    ('rfr', rfr),\n",
    "    ('abr', abr),\n",
    "    ('lr',lr)\n",
    "]\n",
    "reg = StackingRegressor(estimators=estimators,final_estimator=linear_model.LinearRegression(),n_jobs=-1)\n",
    "reg.fit(X_train, Y_train).score(X_test, Y_test)"
   ]
  },
  {
   "cell_type": "code",
   "execution_count": 121,
   "metadata": {},
   "outputs": [
    {
     "name": "stdout",
     "output_type": "stream",
     "text": [
      "MSE:  0.042475840288201935\n"
     ]
    }
   ],
   "source": [
    "\n",
    "print(\"MSE: \",mean_squared_error(Y_test, reg.predict(X_test)))\n"
   ]
  },
  {
   "cell_type": "code",
   "execution_count": 122,
   "metadata": {},
   "outputs": [
    {
     "name": "stdout",
     "output_type": "stream",
     "text": [
      "MSE for train:  0.013841378156840643\n"
     ]
    }
   ],
   "source": [
    "print(\"MSE for train: \",mean_squared_error(Y_train, reg.predict(X_train)))\n"
   ]
  },
  {
   "cell_type": "code",
   "execution_count": 118,
   "metadata": {},
   "outputs": [],
   "source": [
    "# 2k=>0.04236049536066814,,,0.04238977575476603\n",
    "# 2ok pla 0.03721944133053812"
   ]
  }
 ],
 "metadata": {
  "interpreter": {
   "hash": "916dbcbb3f70747c44a77c7bcd40155683ae19c65e1c03b4aa3499c5328201f1"
  },
  "kernelspec": {
   "display_name": "Python 3.8.10 64-bit",
   "name": "python3"
  },
  "language_info": {
   "codemirror_mode": {
    "name": "ipython",
    "version": 3
   },
   "file_extension": ".py",
   "mimetype": "text/x-python",
   "name": "python",
   "nbconvert_exporter": "python",
   "pygments_lexer": "ipython3",
   "version": "3.8.10"
  },
  "orig_nbformat": 4
 },
 "nbformat": 4,
 "nbformat_minor": 2
}
