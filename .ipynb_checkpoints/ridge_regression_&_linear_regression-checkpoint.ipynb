{
 "cells": [
  {
   "cell_type": "code",
   "execution_count": 1,
   "metadata": {},
   "outputs": [],
   "source": [
    "import json\n",
    "import numpy as np\n",
    "import pandas as pd\n",
    "import matplotlib.pyplot as plt\n",
    "import matplotlib.ticker as ticker\n",
    "\n",
    "# dataset\n",
    "from sklearn.datasets import load_boston\n",
    "# scaling and dataset split\n",
    "from sklearn import preprocessing\n",
    "from sklearn.model_selection import train_test_split\n",
    "# OLS, Ridge\n",
    "from sklearn.linear_model import LinearRegression, Ridge\n",
    "# model evaluation\n",
    "from sklearn.metrics import r2_score, mean_squared_error\n",
    "# standarization\n",
    "from sklearn.preprocessing import StandardScaler"
   ]
  },
  {
   "cell_type": "code",
   "execution_count": 15,
   "metadata": {},
   "outputs": [],
   "source": [
    "with open(\"./dataset/vectorized_spacy.json\") as f:\n",
    "    data = json.load(f)\n",
    "    \n",
    "x = []\n",
    "y = []\n",
    "for p in data:\n",
    "    x.append(data[p][2])\n",
    "    y.append(data[p][1])    \n",
    "\n",
    "# do we need any standarization as we have only one feature(vector) of our model?\n",
    "scaler = StandardScaler()\n",
    "x = scaler.fit_transform(x)\n",
    "\n",
    "# using 30% of data for testing\n",
    "x_train, x_test, y_train, y_test = train_test_split(x, y, test_size=0.4)"
   ]
  },
  {
   "cell_type": "code",
   "execution_count": 16,
   "metadata": {},
   "outputs": [],
   "source": [
    "#Fit the model\n",
    "def ridge_regression(alp):\n",
    "    ridgereg = Ridge(alpha=alp,normalize=True)\n",
    "    ridgereg.fit(x_train,y_train)\n",
    "    y_pred = ridgereg.predict(x_test)\n",
    "\n",
    "    # used this to calculate abs err and got best alpha around 0.1\n",
    "    # sum = 0.0\n",
    "    # l = len(y_test)\n",
    "    # for i in range(l):\n",
    "    #     sum += abs(y_test[i]-y_pred[i])\n",
    "    # sum/=l\n",
    "    # print(sum)\n",
    "\n",
    "    mse = 0.0\n",
    "    l = len(y_test)\n",
    "    for i in range(l):\n",
    "        d = y_test[i]-y_pred[i]\n",
    "        mse += (d*d)    \n",
    "    mse /= l\n",
    "\n",
    "    return mse"
   ]
  },
  {
   "cell_type": "code",
   "execution_count": 17,
   "metadata": {},
   "outputs": [
    {
     "name": "stdout",
     "output_type": "stream",
     "text": [
      "Value for MSE for Ridge Regression is:  0.044735585301017206\n"
     ]
    }
   ],
   "source": [
    "# RIDGE REGRESSION\n",
    "mse = ridge_regression(0.1) #the best alpha we got is around 0.1\n",
    "print('Value for MSE for Ridge Regression is: ',mse)"
   ]
  },
  {
   "cell_type": "code",
   "execution_count": 19,
   "metadata": {},
   "outputs": [
    {
     "name": "stdout",
     "output_type": "stream",
     "text": [
      "Value for MSE for Linear Regression is:  0.04515959069325226\n"
     ]
    }
   ],
   "source": [
    "# LINEAR REGRESSION\n",
    "mse = ridge_regression(0.0) # for linear regression we just need to put alpha as 0.0 so it just takes OLS\n",
    "print('Value for MSE for Linear Regression is: ',mse)"
   ]
  }
 ],
 "metadata": {
  "kernelspec": {
   "display_name": "Python 3",
   "language": "python",
   "name": "python3"
  },
  "language_info": {
   "codemirror_mode": {
    "name": "ipython",
    "version": 3
   },
   "file_extension": ".py",
   "mimetype": "text/x-python",
   "name": "python",
   "nbconvert_exporter": "python",
   "pygments_lexer": "ipython3",
   "version": "3.6.12"
  }
 },
 "nbformat": 4,
 "nbformat_minor": 2
}
