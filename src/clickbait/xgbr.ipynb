{
 "cells": [
  {
   "cell_type": "code",
   "execution_count": 28,
   "metadata": {},
   "outputs": [],
   "source": [
    "import json\n",
    "import numpy as np\n",
    "import matplotlib.pyplot as plt\n",
    "from xgboost import XGBRegressor\n",
    "from sklearn.metrics import mean_squared_error\n",
    "from sklearn.preprocessing import StandardScaler\n",
    "from sklearn import datasets, linear_model, metrics\n",
    "from sklearn.model_selection import train_test_split"
   ]
  },
  {
   "cell_type": "code",
   "execution_count": 29,
   "metadata": {},
   "outputs": [],
   "source": [
    "f = open('../../dataset/clickbait_dataset/vectorized_spacy20k.json','r')\n",
    "data = json.load(f)"
   ]
  },
  {
   "cell_type": "code",
   "execution_count": 30,
   "metadata": {},
   "outputs": [],
   "source": [
    "X=[]\n",
    "Y=[]\n",
    "T=[]\n",
    "ID=[]\n",
    "for x in data:\n",
    "    ID.append(x)\n",
    "    T.append(data[x][0])\n",
    "    Y.append(data[x][1])\n",
    "    X.append(data[x][2])"
   ]
  },
  {
   "cell_type": "code",
   "execution_count": 31,
   "metadata": {},
   "outputs": [],
   "source": [
    "# put ratio here\n",
    "test_size = 0.2\n",
    "X_train, X_test, Y_train, Y_test = train_test_split(X, Y, test_size=test_size, random_state=0)"
   ]
  },
  {
   "cell_type": "code",
   "execution_count": 32,
   "metadata": {},
   "outputs": [
    {
     "name": "stdout",
     "output_type": "stream",
     "text": [
      "For  20.0 % test size\n",
      "MSE:  0.036811637870729004\n",
      "ACC:  0.40868938506231034\n"
     ]
    }
   ],
   "source": [
    "sc = StandardScaler()\n",
    "X_train_std = sc.fit_transform(X_train)\n",
    "X_test_std = sc.transform(X_test)\n",
    "xgbr_params = {'n_estimators': 1000,'max_depth': 10,'learning_rate': 0.01,'booster': 'dart', 'subsample': 0.8, 'colsample_bytree': 0.8, 'gamma': 0.1, 'reg_lambda': 1}\n",
    "xgbr = XGBRegressor(objective='reg:squarederror',**xgbr_params)\n",
    "xgbr.fit(X_train_std, Y_train)\n",
    "print(\"For \", str(test_size*100),\"% test size\")\n",
    "print(\"MSE: \",mean_squared_error(Y_test, xgbr.predict(X_test_std)))\n",
    "print(\"ACC: \",xgbr.score(X_test_std, Y_test))"
   ]
  },
  {
   "cell_type": "code",
   "execution_count": 33,
   "metadata": {},
   "outputs": [
    {
     "name": "stdout",
     "output_type": "stream",
     "text": [
      "ACC:  0.8806947953485393\n"
     ]
    }
   ],
   "source": [
    "print(\"ACC: \",xgbr.score(X_train_std, Y_train))\n"
   ]
  },
  {
   "cell_type": "code",
   "execution_count": 36,
   "metadata": {},
   "outputs": [
    {
     "name": "stdout",
     "output_type": "stream",
     "text": [
      "MSE:  0.036811637870729004\n"
     ]
    }
   ],
   "source": [
    "import joblib\n",
    "joblib.dump(xgbr, 'xgbr0.036811637870729004.pkl')\n",
    "saved_model = joblib.load('xgbr0.036811637870729004.pkl')\n",
    "saved_model.predict(X_test)\n",
    "print(\"MSE: \",mean_squared_error(Y_test, saved_model.predict(X_test_std)))"
   ]
  }
 ],
 "metadata": {
  "interpreter": {
   "hash": "916dbcbb3f70747c44a77c7bcd40155683ae19c65e1c03b4aa3499c5328201f1"
  },
  "kernelspec": {
   "display_name": "Python 3.8.10 64-bit",
   "name": "python3"
  },
  "language_info": {
   "codemirror_mode": {
    "name": "ipython",
    "version": 3
   },
   "file_extension": ".py",
   "mimetype": "text/x-python",
   "name": "python",
   "nbconvert_exporter": "python",
   "pygments_lexer": "ipython3",
   "version": "3.8.10"
  },
  "orig_nbformat": 4
 },
 "nbformat": 4,
 "nbformat_minor": 2
}
